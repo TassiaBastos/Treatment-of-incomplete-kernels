{
 "metadata": {
  "language_info": {
   "codemirror_mode": {
    "name": "ipython",
    "version": 3
   },
   "file_extension": ".py",
   "mimetype": "text/x-python",
   "name": "python",
   "nbconvert_exporter": "python",
   "pygments_lexer": "ipython3",
   "version": "3.6.8-final"
  },
  "orig_nbformat": 2,
  "kernelspec": {
   "name": "python36864bitpairwisemklconda6ebf8db59edd43e9917ea07540af8a86",
   "display_name": "Python 3.6.8 64-bit ('pairwisemkl': conda)"
  }
 },
 "nbformat": 4,
 "nbformat_minor": 2,
 "cells": [
  {
   "cell_type": "code",
   "execution_count": 1,
   "metadata": {},
   "outputs": [],
   "source": [
    "import numpy as np"
   ]
  },
  {
   "cell_type": "markdown",
   "metadata": {},
   "source": [
    "# Comparar kernels"
   ]
  },
  {
   "cell_type": "code",
   "execution_count": 13,
   "metadata": {
    "tags": []
   },
   "outputs": [
    {
     "output_type": "stream",
     "name": "stdout",
     "text": "0.5964670209042375 0.1808850466783387\n"
    },
    {
     "output_type": "execute_result",
     "data": {
      "text/plain": "array([[0.        , 0.81205977, 0.8842749 , ..., 0.70940347, 0.74512409,\n        0.70449113],\n       [0.81205977, 0.        , 0.        , ..., 0.67430077, 0.67513474,\n        0.65916813],\n       [0.8842749 , 0.        , 0.        , ..., 0.69905017, 0.        ,\n        0.68810842],\n       ...,\n       [0.70940347, 0.67430077, 0.69905017, ..., 0.        , 0.7222642 ,\n        0.80402812],\n       [0.74512409, 0.67513474, 0.        , ..., 0.7222642 , 0.        ,\n        0.        ],\n       [0.70449113, 0.65916813, 0.68810842, ..., 0.80402812, 0.        ,\n        0.        ]])"
     },
     "metadata": {},
     "execution_count": 13
    }
   ],
   "source": [
    "k1orig = np.loadtxt('../Original/drug_response_data/Cell_line_kernels/Kc_methylation_210.txt')\n",
    "k1modi = np.loadtxt('../Scenario 2/data_base/Scenario-02/Iteration-02/Scenario_02_zero_70/Cell_line_kernels/Kc_methylation_210.txt')\n",
    "\n",
    "print(k1orig.mean(), k1modi.mean())\n",
    "k1orig - k1modi"
   ]
  },
  {
   "cell_type": "markdown",
   "metadata": {},
   "source": [
    "# Comparar resultados"
   ]
  },
  {
   "cell_type": "markdown",
   "metadata": {},
   "source": [
    "## Pesos"
   ]
  },
  {
   "cell_type": "code",
   "execution_count": 30,
   "metadata": {
    "tags": []
   },
   "outputs": [
    {
     "output_type": "execute_result",
     "data": {
      "text/plain": "['Kd_PubChem.txt_KRONECKER_Kc_cn_146.txt',\n 'Kd_PubChem.txt_KRONECKER_Kc_cn_270.txt',\n 'Kd_PubChem.txt_KRONECKER_Kc_cn_417.txt']"
     },
     "metadata": {},
     "execution_count": 30
    }
   ],
   "source": [
    "# path_f1_original = '../Original/drug_response_data/RMSE.txt'\n",
    "\n",
    "pesos_orig = np.loadtxt('../Original/drug_response_data/pairwise_kernel_weights.txt').mean(axis=0)\n",
    "pesos_modi = np.loadtxt('../Scenario 2/data_base/Scenario-02/Iteration-02/Scenario_02_zero_70/pairwise_kernel_weights.txt').mean(axis=0)\n",
    "\n",
    "kernel_names = open('../Original/drug_response_data/pairwise_kernel_names.txt','r').read().split('\\t')\n",
    "kernel_names[0:3]\n",
    "# pesos_modi - pesos_orig"
   ]
  },
  {
   "cell_type": "code",
   "execution_count": 31,
   "metadata": {},
   "outputs": [
    {
     "output_type": "execute_result",
     "data": {
      "text/plain": "[7, 19, 31, 43, 55, 67, 79, 91, 103, 115]"
     },
     "metadata": {},
     "execution_count": 31
    }
   ],
   "source": [
    "pos = []\n",
    "for i, x in enumerate(kernel_names):\n",
    "    if 'Kc_methylation_210' in x:\n",
    "        pos.append(i)\n",
    "pos"
   ]
  },
  {
   "cell_type": "code",
   "execution_count": 37,
   "metadata": {},
   "outputs": [
    {
     "output_type": "execute_result",
     "data": {
      "text/plain": "'Kd_circular.txt_KRONECKER_Kc_methylation_210.txt'"
     },
     "metadata": {},
     "execution_count": 37
    }
   ],
   "source": [
    "kernel_names[19]"
   ]
  },
  {
   "cell_type": "code",
   "execution_count": 33,
   "metadata": {},
   "outputs": [
    {
     "output_type": "execute_result",
     "data": {
      "text/plain": "(120,)"
     },
     "metadata": {},
     "execution_count": 33
    }
   ],
   "source": [
    "pesos_modi.shape"
   ]
  },
  {
   "cell_type": "code",
   "execution_count": 50,
   "metadata": {
    "tags": []
   },
   "outputs": [
    {
     "output_type": "stream",
     "name": "stdout",
     "text": "3.266941675905568e-08\n3.2406032549887104e-10\n"
    },
    {
     "output_type": "execute_result",
     "data": {
      "text/plain": "0.9900806210319306"
     },
     "metadata": {},
     "execution_count": 50
    }
   ],
   "source": [
    "\n",
    "print(pesos_orig[pos].mean())\n",
    "print(pesos_modi[pos].mean())\n",
    "\n",
    "(pesos_orig[pos].mean() - pesos_modi[pos].mean()) / pesos_orig[pos].mean()\n",
    "\n",
    "# (np.abs(pesos_orig[pos]) - np.abs(pesos_modi[pos])).mean()"
   ]
  },
  {
   "cell_type": "code",
   "execution_count": 48,
   "metadata": {
    "tags": []
   },
   "outputs": [
    {
     "output_type": "stream",
     "name": "stdout",
     "text": "[-1.50046226e-09  9.16677550e-12 -4.57715547e-10 -1.82525684e-11\n  3.63432682e-10  1.89143712e-09  1.84136452e-09 -1.45296007e-09\n  6.89089977e-10  1.87550263e-09]\n[2.38535619e-10 2.53146954e-09 3.34624212e-08 3.38218386e-09\n 5.32663617e-08 6.42223965e-08 9.97801797e-08 2.03376212e-09\n 5.49175498e-08 1.28593075e-08]\n"
    },
    {
     "output_type": "execute_result",
     "data": {
      "text/plain": "-7.686821168944986e-10"
     },
     "metadata": {},
     "execution_count": 48
    }
   ],
   "source": [
    "print(pesos_modi[pos])\n",
    "print(pesos_orig[pos])\n",
    "\n",
    "(np.abs(pesos_orig) - np.abs(pesos_modi)).mean()"
   ]
  },
  {
   "cell_type": "code",
   "execution_count": null,
   "metadata": {},
   "outputs": [],
   "source": []
  },
  {
   "cell_type": "code",
   "execution_count": null,
   "metadata": {},
   "outputs": [],
   "source": []
  },
  {
   "cell_type": "code",
   "execution_count": 41,
   "metadata": {},
   "outputs": [
    {
     "output_type": "execute_result",
     "data": {
      "text/plain": "array([-1.75017952e-09, -1.32265901e-09, -1.18319583e-09, -1.82026928e-09,\n       -1.87777160e-09, -2.01093889e-09, -1.55882308e-09, -1.73899788e-09,\n       -1.60272282e-09, -1.41422820e-09, -1.61695314e-09, -1.29682228e-09,\n       -8.60815707e-09, -3.76979084e-09, -2.16618809e-09, -4.11971539e-09,\n       -3.76995289e-09, -3.51395774e-09, -5.14075333e-09, -2.52230277e-09,\n       -2.91601705e-09, -1.80569690e-09, -5.02434580e-09, -3.44212950e-09,\n       -5.45256848e-09, -1.57138159e-08, -4.64052197e-06, -2.91591216e-08,\n       -5.16220600e-08, -1.51248527e-07, -1.47046750e-08, -3.39201367e-08,\n        8.30455243e-06, -1.83467858e-06, -6.59915201e-09, -1.09499825e-08,\n       -3.60491426e-09, -3.62484857e-09, -3.20075641e-09, -3.56615165e-09,\n       -4.35825318e-09, -4.17731397e-09, -5.11887237e-09, -3.40043642e-09,\n       -4.03950771e-09, -2.89332709e-09, -3.88712039e-09, -3.62397001e-09,\n       -6.84926301e-09, -1.72470372e-08,  6.82539685e-06, -3.95793055e-08,\n       -8.27360405e-08,  3.44202872e-05, -2.07104087e-08, -5.29029291e-08,\n       -5.44628534e-05,  1.21109702e-05, -9.24310354e-09, -1.32447021e-08,\n       -1.12245832e-08, -2.51050845e-08, -1.98742017e-06, -4.88851541e-08,\n       -8.56504089e-08,  9.69508111e-06, -2.75112685e-08, -6.23309594e-08,\n       -8.15379770e-06, -2.70917680e-07, -1.30285773e-08, -1.68138947e-08,\n       -1.79947424e-08, -3.82292214e-08, -2.70179562e-07, -8.80676159e-08,\n       -1.79696078e-07, -4.39060708e-05, -4.33261657e-08, -9.79388152e-08,\n        4.08310999e-05, -9.93628107e-08, -1.81231159e-08, -2.13747269e-08,\n       -2.40859762e-09, -2.75193373e-09, -4.07662047e-09, -3.52780751e-09,\n       -3.50764158e-09, -3.55736080e-09, -3.01838314e-09, -3.48672219e-09,\n       -3.30605443e-09, -2.83415396e-09, -2.92783379e-09, -2.78647565e-09,\n       -1.11325955e-08, -2.37480802e-08, -2.82239646e-08, -3.00340337e-08,\n       -3.04265099e-08, -1.69646092e-08, -2.55904900e-08, -5.42284598e-08,\n        2.18757537e-05, -1.62595038e-05, -2.01303532e-07, -1.08598093e-07,\n       -9.61657471e-09, -1.08026130e-08, -1.11968503e-08, -1.05264466e-08,\n       -1.39736966e-08, -1.79701386e-08, -1.16558543e-08, -1.09838049e-08,\n       -1.55365966e-08, -1.08879835e-08, -8.91709360e-09, -8.65608939e-09])"
     },
     "metadata": {},
     "execution_count": 41
    }
   ],
   "source": [
    "(np.abs(pesos_modi) - pesos_orig)"
   ]
  },
  {
   "cell_type": "code",
   "execution_count": 10,
   "metadata": {},
   "outputs": [
    {
     "output_type": "execute_result",
     "data": {
      "text/plain": "array([[ 6.72237503e-09,  4.68430428e-09,  5.41965999e-09, ...,\n         3.66239502e-08,  3.51156730e-08,  3.31287403e-08],\n       [ 1.37466878e-09,  5.29954147e-10,  2.04587614e-09, ...,\n         9.60503016e-09,  9.34872144e-09,  8.51554963e-09],\n       [ 2.18111853e-08,  1.70354675e-08,  1.54885364e-08, ...,\n         4.48889944e-08,  5.54863338e-08,  5.04506944e-08],\n       ...,\n       [-3.37559371e-09, -3.67727312e-09, -1.31989334e-09, ...,\n         1.94142498e-10, -2.41522572e-09, -2.36497331e-09],\n       [-9.95695935e-10, -1.16368305e-09, -4.83394062e-10, ...,\n        -5.21872666e-10, -1.02223701e-09, -9.99229596e-10],\n       [-5.09662942e-09, -4.94657647e-09, -5.47469525e-10, ...,\n         6.84741057e-09,  6.31544357e-10,  1.13460374e-09]])"
     },
     "metadata": {},
     "execution_count": 10
    }
   ],
   "source": [
    "# path_f1_modificado = '../Scenario 2/data_base/Scenario-02/Iteration-02/Scenario_02_zero_70/RMSE.txt'\n",
    "path_f1_modificado = '../Scenario 2/data_base/Scenario-02/Iteration-02/Scenario_02_zero_70/pairwise_kernel_weights.txt'\n",
    "xx2 = np.loadtxt(path_f1_original)\n",
    "xx2"
   ]
  },
  {
   "cell_type": "code",
   "execution_count": 11,
   "metadata": {},
   "outputs": [
    {
     "output_type": "execute_result",
     "data": {
      "text/plain": "array([[0., 0., 0., ..., 0., 0., 0.],\n       [0., 0., 0., ..., 0., 0., 0.],\n       [0., 0., 0., ..., 0., 0., 0.],\n       ...,\n       [0., 0., 0., ..., 0., 0., 0.],\n       [0., 0., 0., ..., 0., 0., 0.],\n       [0., 0., 0., ..., 0., 0., 0.]])"
     },
     "metadata": {},
     "execution_count": 11
    }
   ],
   "source": [
    "xx1-xx2"
   ]
  },
  {
   "cell_type": "code",
   "execution_count": null,
   "metadata": {},
   "outputs": [],
   "source": []
  }
 ]
}